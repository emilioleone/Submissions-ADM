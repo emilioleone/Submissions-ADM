{
  "nbformat": 4,
  "nbformat_minor": 0,
  "metadata": {
    "colab": {
      "provenance": []
    },
    "kernelspec": {
      "name": "python3",
      "display_name": "Python 3"
    },
    "language_info": {
      "name": "python"
    }
  },
  "cells": [
    {
      "cell_type": "markdown",
      "source": [
        "Say \"Hello, World!\" With Python"
      ],
      "metadata": {
        "id": "do4JFAcVUH2X"
      }
    },
    {
      "cell_type": "code",
      "source": [
        "if __name__ == '__main__':\n",
        "    print(\"Hello, World!\")"
      ],
      "metadata": {
        "id": "yqU9hgncUHP0"
      },
      "execution_count": null,
      "outputs": []
    },
    {
      "cell_type": "markdown",
      "source": [
        "Print Function"
      ],
      "metadata": {
        "id": "1bZppMr6TE3L"
      }
    },
    {
      "cell_type": "code",
      "execution_count": 4,
      "metadata": {
        "colab": {
          "base_uri": "https://localhost:8080/"
        },
        "id": "vtqKj8yZ_hG8",
        "outputId": "1d068c14-8d85-4b88-ff2f-3961148b32d1"
      },
      "outputs": [
        {
          "output_type": "stream",
          "name": "stdout",
          "text": [
            "1\n",
            "1\n"
          ]
        }
      ],
      "source": [
        "if __name__ == '__main__':\n",
        "    n = int(input())\n",
        "    i = 1\n",
        "    num = []\n",
        "    while i <= n:\n",
        "        num.append(str(i))\n",
        "        i += 1\n",
        "    st = ''.join(num)\n",
        "    print(st)"
      ]
    },
    {
      "cell_type": "markdown",
      "source": [
        "Write a function"
      ],
      "metadata": {
        "id": "XUTESKWqTULt"
      }
    },
    {
      "cell_type": "code",
      "source": [
        "def is_leap(year):\n",
        "    leap = False\n",
        "    if year%4==0 and year%100==0 and year%400==0:\n",
        "        leap = True\n",
        "    elif year%4==0 and year%100==0:\n",
        "        leap = False\n",
        "    elif year%4==0:\n",
        "        leap = True\n",
        "\n",
        "    return leap"
      ],
      "metadata": {
        "id": "rsKPPELlBptX"
      },
      "execution_count": null,
      "outputs": []
    },
    {
      "cell_type": "markdown",
      "source": [
        "Loops"
      ],
      "metadata": {
        "id": "_4mMQQzwTgJV"
      }
    },
    {
      "cell_type": "code",
      "source": [
        "if __name__ == '__main__':\n",
        "    n = int(input())\n",
        "    i=0\n",
        "    while i<n:\n",
        "        print(i*i)\n",
        "        i+=1\n"
      ],
      "metadata": {
        "id": "Gf7b6eJSTa9b"
      },
      "execution_count": null,
      "outputs": []
    },
    {
      "cell_type": "markdown",
      "source": [
        "Python: division"
      ],
      "metadata": {
        "id": "hjuJMEatTmJZ"
      }
    },
    {
      "cell_type": "code",
      "source": [
        "if __name__ == '__main__':\n",
        "    a = int(input())\n",
        "    b = int(input())\n",
        "\n",
        "    print(a//b)\n",
        "    print(a/b)"
      ],
      "metadata": {
        "id": "kFYESUBvTiS6"
      },
      "execution_count": null,
      "outputs": []
    },
    {
      "cell_type": "markdown",
      "source": [
        "Arithmetic Operations"
      ],
      "metadata": {
        "id": "iqM34SwcTtD9"
      }
    },
    {
      "cell_type": "code",
      "source": [
        "if __name__ == '__main__':\n",
        "    a = int(input())\n",
        "    b = int(input())\n",
        "\n",
        "    print(a+b)\n",
        "    print(a-b)\n",
        "    print(a*b)"
      ],
      "metadata": {
        "id": "QG9fMcDIT1Eq"
      },
      "execution_count": null,
      "outputs": []
    },
    {
      "cell_type": "markdown",
      "source": [
        "Python If-Else"
      ],
      "metadata": {
        "id": "3QMHVgOzT-5N"
      }
    },
    {
      "cell_type": "code",
      "source": [
        "#!/bin/python3\n",
        "\n",
        "import math\n",
        "import os\n",
        "import random\n",
        "import re\n",
        "import sys\n",
        "\n",
        "\n",
        "\n",
        "if __name__ == '__main__':\n",
        "    n = int(input().strip())\n",
        "    if n%2 != 0:\n",
        "        print('Weird')\n",
        "    else:\n",
        "        if 2<=n and n<=5:\n",
        "            print('Not Weird')\n",
        "        elif 6<=n and n<=20:\n",
        "            print('Weird')\n",
        "        elif n>20:\n",
        "            print('Not Weird')"
      ],
      "metadata": {
        "id": "K3F5HFe-T_O-"
      },
      "execution_count": null,
      "outputs": []
    },
    {
      "cell_type": "markdown",
      "source": [
        "Finding the percentage"
      ],
      "metadata": {
        "id": "uea1FLX3UL1S"
      }
    },
    {
      "cell_type": "code",
      "source": [
        "if __name__ == '__main__':\n",
        "    n = int(input())\n",
        "    student_marks = {}\n",
        "    for _ in range(n):\n",
        "        name, *line = input().split()\n",
        "        scores = list(map(float, line))\n",
        "        student_marks[name] = scores\n",
        "    query_name = input()\n",
        "    voti = []\n",
        "    indice = 0\n",
        "    for i in student_marks.keys():\n",
        "        if i == query_name:\n",
        "            voti = student_marks[i]\n",
        "    somma = 0\n",
        "    divisione = 0\n",
        "    for i in voti:\n",
        "        somma+=i\n",
        "    divisione = somma/3\n",
        "    print(\"%.2f\" % divisione)"
      ],
      "metadata": {
        "id": "3EBtC2YwULgw"
      },
      "execution_count": null,
      "outputs": []
    },
    {
      "cell_type": "markdown",
      "source": [
        "Find the Runner-Up Score!"
      ],
      "metadata": {
        "id": "z35vqmpwUa6J"
      }
    },
    {
      "cell_type": "code",
      "source": [
        "if __name__ == '__main__':\n",
        "    n = int(input())\n",
        "    arr = map(int, input().split())\n",
        "    lista = list(arr)\n",
        "    secondo = min(lista)\n",
        "    for i in range(n):\n",
        "        if lista[i]<max(lista) and lista[i]>secondo:\n",
        "            secondo=lista[i]\n",
        "    print(secondo)"
      ],
      "metadata": {
        "id": "1oBOmVf2UbV2"
      },
      "execution_count": null,
      "outputs": []
    },
    {
      "cell_type": "markdown",
      "source": [
        "List Comprehensions"
      ],
      "metadata": {
        "id": "1fAburOJUfDk"
      }
    },
    {
      "cell_type": "code",
      "source": [
        "if __name__ == '__main__':\n",
        "    x = int(input())\n",
        "    y = int(input())\n",
        "    z = int(input())\n",
        "    n = int(input())\n",
        "\n",
        "    lista = [[i, j, k] for i in range(x+1) for j in range(y+1) for k in range(z+1) if i+j+k != n]\n",
        "\n",
        "    print(lista)"
      ],
      "metadata": {
        "id": "dKXuGchjUfuZ"
      },
      "execution_count": null,
      "outputs": []
    },
    {
      "cell_type": "markdown",
      "source": [
        "String Split and Join"
      ],
      "metadata": {
        "id": "Db39hO2kUw7Y"
      }
    },
    {
      "cell_type": "code",
      "source": [
        "def split_and_join(line):\n",
        "\n",
        "    linea = line.split(' ')\n",
        "    linea2 = '-'.join(linea)\n",
        "    return linea2\n",
        "\n",
        "if __name__ == '__main__':\n",
        "    line = input()\n",
        "    result = split_and_join(line)\n",
        "    print(result)"
      ],
      "metadata": {
        "id": "omICqNLpUwkC"
      },
      "execution_count": null,
      "outputs": []
    },
    {
      "cell_type": "markdown",
      "source": [
        "sWAP cASE"
      ],
      "metadata": {
        "id": "m-edI1Q_U2Lk"
      }
    },
    {
      "cell_type": "code",
      "source": [
        "def swap_case(s):\n",
        "    lista = []\n",
        "    for i in s:\n",
        "        if i.isupper():\n",
        "            x = i.lower()\n",
        "            lista.append(x)\n",
        "        elif i.isupper() == False:\n",
        "            x = i.upper()\n",
        "            lista.append(x)\n",
        "        else:\n",
        "            lista.append('')\n",
        "    string = ''.join(lista)\n",
        "\n",
        "    return string"
      ],
      "metadata": {
        "id": "W8fPQNz9U2ek"
      },
      "execution_count": null,
      "outputs": []
    },
    {
      "cell_type": "markdown",
      "source": [
        "Nested Lists\n"
      ],
      "metadata": {
        "id": "uidCckcrU-l9"
      }
    },
    {
      "cell_type": "code",
      "source": [
        "if __name__ == '__main__':\n",
        "    studenti = []\n",
        "    lista = []\n",
        "    score1 = []\n",
        "    voti = []\n",
        "    for _ in range(int(input())):\n",
        "        name = input()\n",
        "        score = float(input())\n",
        "        studenti.append([name, score])\n",
        "        voti.append(score)\n",
        "    lista = studenti\n",
        "    mini = min(voti)\n",
        "    for i in lista:\n",
        "        if i[1] == mini:\n",
        "            lista.remove(i)\n",
        "    voti2 = []\n",
        "    for i in voti:\n",
        "        if i != mini:\n",
        "            voti2.append(i)\n",
        "    mini = min(voti2)\n",
        "    defi = []\n",
        "    for i in lista:\n",
        "        if i[1]==mini:\n",
        "            defi.append(i[0])\n",
        "    defi.sort()\n",
        "    for i in defi:\n",
        "        print(i)"
      ],
      "metadata": {
        "id": "bQoZOaF4U-7g"
      },
      "execution_count": null,
      "outputs": []
    },
    {
      "cell_type": "markdown",
      "source": [
        "Tuples"
      ],
      "metadata": {
        "id": "4DhI8kfzVG_u"
      }
    },
    {
      "cell_type": "code",
      "source": [
        "if __name__ == '__main__':\n",
        "    n = int(input())\n",
        "    integer_list = map(int, input().split())\n",
        "    interi = []\n",
        "    for i in integer_list:\n",
        "        interi.append(i)\n",
        "    inte = tuple(interi)\n",
        "    x = hash(inte)\n",
        "    print(x)"
      ],
      "metadata": {
        "id": "7fN6thOWVNA1"
      },
      "execution_count": null,
      "outputs": []
    },
    {
      "cell_type": "markdown",
      "source": [
        "Lists"
      ],
      "metadata": {
        "id": "c3aXZo6xVRHO"
      }
    },
    {
      "cell_type": "code",
      "source": [
        "if __name__ == '__main__':\n",
        "    N = int(input())\n",
        "    lista = []\n",
        "    for _ in range(N):\n",
        "        comando = input().split()\n",
        "        if comando[0] == 'insert':\n",
        "            lista.insert(int(comando[1]), int(comando[2]))\n",
        "        if comando[0]=='print':\n",
        "            print(lista)\n",
        "        if comando[0]=='remove':\n",
        "            lista.remove(int(comando[1]))\n",
        "        if comando[0]=='append':\n",
        "            lista.append(int(comando[1]))\n",
        "        if comando[0]=='sort':\n",
        "            lista.sort()\n",
        "        if comando[0]=='pop':\n",
        "            lista.pop()\n",
        "        if comando[0]=='reverse':\n",
        "            lista.reverse()"
      ],
      "metadata": {
        "id": "qEmKnRdfVXLo"
      },
      "execution_count": null,
      "outputs": []
    },
    {
      "cell_type": "markdown",
      "source": [
        "Introduction to Sets\n"
      ],
      "metadata": {
        "id": "mjbzDosrVbmj"
      }
    },
    {
      "cell_type": "code",
      "source": [
        "def average(array):\n",
        "    y = set(array)\n",
        "    somma=0\n",
        "    for i in y:\n",
        "        somma +=i\n",
        "    avg = somma/len(y)\n",
        "    return avg"
      ],
      "metadata": {
        "id": "o034yiS2VXPi"
      },
      "execution_count": null,
      "outputs": []
    },
    {
      "cell_type": "markdown",
      "source": [
        "Designer Door Mat\n"
      ],
      "metadata": {
        "id": "s8wxk7fgVk3t"
      }
    },
    {
      "cell_type": "code",
      "source": [
        "N = input().split()\n",
        "N = [int(e) for e in N]\n",
        "i=0\n",
        "while i in range(((N[0]-1)//2)):\n",
        "    print('-'*((N[1]-((i*2+1)*3))//2)+'.|.'*((i*2)+1)+'-'*((N[1]-((i*2+1)*3))//2))\n",
        "    i+=1\n",
        "print('-'*((N[1]-7)//2)+'WELCOME'+'-'*((N[1]-7)//2))\n",
        "i= ((N[0]-1)//2)-1\n",
        "while i in range(((N[0]-1)//2)):\n",
        "    print('-'*((N[1]-((i*2+1)*3))//2)+'.|.'*((i*2)+1)+'-'*((N[1]-((i*2+1)*3))//2))\n",
        "    i-=1"
      ],
      "metadata": {
        "id": "mwCPHu2uVknl"
      },
      "execution_count": null,
      "outputs": []
    },
    {
      "cell_type": "markdown",
      "source": [
        "String Formatting\n"
      ],
      "metadata": {
        "id": "eEDzAyf_VkUF"
      }
    },
    {
      "cell_type": "code",
      "source": [
        "def print_formatted(number):\n",
        "    width = len(\"{:b}\".format(n))\n",
        "    for i in range(1, number+1):\n",
        "        print(\"{:>{width}d} {:>{width}o} {:>{width}X} {:>{width}b}\".format(i, i, i, i, width=width))"
      ],
      "metadata": {
        "id": "auTNXULyVkE9"
      },
      "execution_count": null,
      "outputs": []
    },
    {
      "cell_type": "markdown",
      "source": [
        "Text Wrap"
      ],
      "metadata": {
        "id": "4VRUINEBVj3o"
      }
    },
    {
      "cell_type": "code",
      "source": [
        "\n",
        "def wrap(string, max_width):\n",
        "    stringa = ''\n",
        "    for i in range(0,(len(string)-1), max_width):\n",
        "        stringa = stringa + string[i:max_width+i]+'\\n'\n",
        "    return stringa"
      ],
      "metadata": {
        "id": "gH-qpC64VjlZ"
      },
      "execution_count": null,
      "outputs": []
    },
    {
      "cell_type": "markdown",
      "source": [
        "Text Alignment\n"
      ],
      "metadata": {
        "id": "6J_s4rg6VjW6"
      }
    },
    {
      "cell_type": "code",
      "source": [
        "#Replace all ______ with rjust, ljust or center.\n",
        "\n",
        "thickness = int(input()) #This must be an odd number\n",
        "c = 'H'\n",
        "\n",
        "#Top Cone\n",
        "for i in range(thickness):\n",
        "    print((c*i).rjust(thickness-1)+c+(c*i).ljust(thickness-1))\n",
        "\n",
        "#Top Pillars\n",
        "for i in range(thickness+1):\n",
        "    print((c*thickness).center(thickness*2)+(c*thickness).center(thickness*6))\n",
        "\n",
        "#Middle Belt\n",
        "for i in range((thickness+1)//2):\n",
        "    print((c*thickness*5).center(thickness*6))\n",
        "\n",
        "#Bottom Pillars\n",
        "for i in range(thickness+1):\n",
        "    print((c*thickness).center(thickness*2)+(c*thickness).center(thickness*6))\n",
        "\n",
        "#Bottom Cone\n",
        "for i in range(thickness):\n",
        "    print(((c*(thickness-i-1)).rjust(thickness)+c+(c*(thickness-i-1)).ljust(thickness)).rjust(thickness*6))"
      ],
      "metadata": {
        "id": "j64yI8plVjEv"
      },
      "execution_count": null,
      "outputs": []
    },
    {
      "cell_type": "markdown",
      "source": [
        "String Validators\n"
      ],
      "metadata": {
        "id": "sAAx0n74WVRR"
      }
    },
    {
      "cell_type": "code",
      "source": [
        "if __name__ == '__main__':\n",
        "    s = input()\n",
        "    lista = []\n",
        "    alfanumerico = False\n",
        "    alfa = False\n",
        "    digit = False\n",
        "    lower = False\n",
        "    upper = False\n",
        "    for i in s:\n",
        "        if i.isalnum():\n",
        "            alfanumerico = True\n",
        "        if i.isalpha():\n",
        "            alfa = True\n",
        "        if i.isdigit():\n",
        "            digit = True\n",
        "        if i.islower():\n",
        "            lower = True\n",
        "        if i.isupper():\n",
        "            upper = True\n",
        "\n",
        "    lista.append(alfanumerico)\n",
        "    lista.append(alfa)\n",
        "    lista.append(digit)\n",
        "    lista.append(lower)\n",
        "    lista.append(upper)\n",
        "\n",
        "    for i in lista:\n",
        "        print(i)"
      ],
      "metadata": {
        "id": "hprhinHoWVAr"
      },
      "execution_count": null,
      "outputs": []
    },
    {
      "cell_type": "markdown",
      "source": [
        "Find a string\n"
      ],
      "metadata": {
        "id": "KSGcYEOSWUwz"
      }
    },
    {
      "cell_type": "code",
      "source": [
        "def count_substring(string, sub_string):\n",
        "    indice =0\n",
        "    for i in range(len(string)):#-len(sub_string)\n",
        "        if string[i:i+len(sub_string)]== sub_string:\n",
        "            indice+=1\n",
        "    return indice"
      ],
      "metadata": {
        "id": "pKAAQjJlWUi5"
      },
      "execution_count": null,
      "outputs": []
    },
    {
      "cell_type": "markdown",
      "source": [
        "Mutations"
      ],
      "metadata": {
        "id": "SshKscAtWUT5"
      }
    },
    {
      "cell_type": "code",
      "source": [
        "def mutate_string(string, position, character):\n",
        "\n",
        "    lista = list(string)\n",
        "    lista[position] = character\n",
        "    nuovas = ''.join(lista)\n",
        "\n",
        "    return nuovas"
      ],
      "metadata": {
        "id": "oM1dDn7WWUEc"
      },
      "execution_count": null,
      "outputs": []
    },
    {
      "cell_type": "markdown",
      "source": [
        "What's Your Name?\n"
      ],
      "metadata": {
        "id": "nsn8V_dxWT0b"
      }
    },
    {
      "cell_type": "code",
      "source": [
        "#\n",
        "# Complete the 'print_full_name' function below.\n",
        "#\n",
        "# The function is expected to return a STRING.\n",
        "# The function accepts following parameters:\n",
        "#  1. STRING first\n",
        "#  2. STRING last\n",
        "#\n",
        "\n",
        "def print_full_name(first, last):\n",
        "\n",
        "    string = 'Hello '+first+' '+last+'! You just delved into python.'\n",
        "    print(string)"
      ],
      "metadata": {
        "id": "MgV6szhCWTlH"
      },
      "execution_count": null,
      "outputs": []
    },
    {
      "cell_type": "markdown",
      "source": [
        "Set .symmetric_difference() Operation\n"
      ],
      "metadata": {
        "id": "Mr0OCtXYWTWB"
      }
    },
    {
      "cell_type": "code",
      "source": [
        "n_eng = int(input())\n",
        "eng = set(input().split())\n",
        "n_fr = int(input())\n",
        "fr = set(input().split())\n",
        "total = eng ^ fr\n",
        "s=0\n",
        "\n",
        "for i in total:\n",
        "    s+=1\n",
        "print(s)"
      ],
      "metadata": {
        "id": "xpwrlRQqWTH9"
      },
      "execution_count": null,
      "outputs": []
    },
    {
      "cell_type": "markdown",
      "source": [
        "Set .difference() Operation\n"
      ],
      "metadata": {
        "id": "E3RDYosPWS42"
      }
    },
    {
      "cell_type": "code",
      "source": [
        "n_eng = int(input())\n",
        "eng = set(input().split())\n",
        "n_fr = int(input())\n",
        "fr = set(input().split())\n",
        "\n",
        "total = eng - fr\n",
        "\n",
        "s =0\n",
        "for i in total:\n",
        "    s+=1\n",
        "print(s)"
      ],
      "metadata": {
        "id": "K10KL55qWSos"
      },
      "execution_count": null,
      "outputs": []
    },
    {
      "cell_type": "markdown",
      "source": [
        "Set .discard(), .remove() & .pop()\n"
      ],
      "metadata": {
        "id": "uC_ReIAKWSXM"
      }
    },
    {
      "cell_type": "code",
      "source": [
        "n = int(input())\n",
        "st = set(map(int, input().split()))\n",
        "num = int(input())\n",
        "\n",
        "for i in range(num):\n",
        "    c = input().split()\n",
        "    if c[0]=='pop':\n",
        "        try:\n",
        "            st.pop()\n",
        "        except KeyError:\n",
        "            pass\n",
        "    elif c[0]=='remove':\n",
        "        try:\n",
        "            st.remove(int(c[1]))\n",
        "        except KeyError:\n",
        "            pass\n",
        "    elif c[0]=='discard':\n",
        "            st.discard(int(c[1]))\n",
        "print(sum(st))"
      ],
      "metadata": {
        "id": "JJ5Ucw5YWSGs"
      },
      "execution_count": null,
      "outputs": []
    },
    {
      "cell_type": "markdown",
      "source": [
        "Set .add()\n"
      ],
      "metadata": {
        "id": "KQHVmrJhWRUm"
      }
    },
    {
      "cell_type": "code",
      "source": [
        "n = int(input())\n",
        "l=[]\n",
        "for i in range(n):\n",
        "    p=input()\n",
        "    l.append(p)\n",
        "x=set(l)\n",
        "indice=0\n",
        "for i in x:\n",
        "    indice+=1\n",
        "print(indice)"
      ],
      "metadata": {
        "id": "ttDJlKSjWRt_"
      },
      "execution_count": null,
      "outputs": []
    },
    {
      "cell_type": "markdown",
      "source": [
        "Symmetric Difference"
      ],
      "metadata": {
        "id": "jZz9MmSxXRyj"
      }
    },
    {
      "cell_type": "code",
      "source": [
        "m = set(input())\n",
        "M = set(map(int, input().split()))\n",
        "n = set(input())\n",
        "N = set(map(int, input().split()))\n",
        "x = M.union(N)\n",
        "y = M.intersection(N)\n",
        "z = x.difference(y)\n",
        "h = list(z)\n",
        "h.sort()\n",
        "\n",
        "for i in h:\n",
        "    print(i)"
      ],
      "metadata": {
        "id": "ujs-Ve7pXRjG"
      },
      "execution_count": null,
      "outputs": []
    },
    {
      "cell_type": "markdown",
      "source": [
        "No Idea!\n"
      ],
      "metadata": {
        "id": "lz9poi0pXRRF"
      }
    },
    {
      "cell_type": "code",
      "source": [
        "n,m= map(int, input().split())\n",
        "array= list(map(int, input().split()))\n",
        "A= set(map(int, input().split()))\n",
        "B= set(map(int, input().split()))\n",
        "fel=0\n",
        "for i in array:\n",
        "    if i in A:\n",
        "        fel +=1\n",
        "    if i in B:\n",
        "        fel -=1\n",
        "print(fel)"
      ],
      "metadata": {
        "id": "2D1Su5e_XRBQ"
      },
      "execution_count": null,
      "outputs": []
    },
    {
      "cell_type": "markdown",
      "source": [
        "Collections.deque()\n"
      ],
      "metadata": {
        "id": "E-q3682bXQge"
      }
    },
    {
      "cell_type": "code",
      "source": [
        "from collections import deque\n",
        "n = int(input())\n",
        "d = deque()\n",
        "for _ in range(n):\n",
        "    command = input().split()\n",
        "    if command[0]=='append':\n",
        "        d.append(command[1])\n",
        "    elif command[0]=='appendleft':\n",
        "        d.appendleft(command[1])\n",
        "    elif command[0]=='pop':\n",
        "        d.pop()\n",
        "    elif command[0]=='popleft':\n",
        "        d.popleft()\n",
        "print(*d)"
      ],
      "metadata": {
        "id": "pM9rM4btXQRz"
      },
      "execution_count": null,
      "outputs": []
    },
    {
      "cell_type": "markdown",
      "source": [
        "Word Order\n"
      ],
      "metadata": {
        "id": "SP60WnaVXQBg"
      }
    },
    {
      "cell_type": "code",
      "source": [
        "from collections import OrderedDict\n",
        "\n",
        "n = int(input())\n",
        "words = OrderedDict()\n",
        "for _ in range(n):\n",
        "    word = input()\n",
        "    if word in words:\n",
        "        words[word] += 1\n",
        "    else:\n",
        "        words[word] = 1\n",
        "print(len(words))\n",
        "values = []\n",
        "for i in words.values():\n",
        "    values.append(i)\n",
        "print(*values)"
      ],
      "metadata": {
        "id": "ZM6PeH82XPl-"
      },
      "execution_count": null,
      "outputs": []
    },
    {
      "cell_type": "markdown",
      "source": [
        "Collections.OrderedDict()\n"
      ],
      "metadata": {
        "id": "oV2sxic9XPXK"
      }
    },
    {
      "cell_type": "code",
      "source": [
        "from collections import OrderedDict\n",
        "\n",
        "n = int(input())\n",
        "items = OrderedDict()\n",
        "net_price = []\n",
        "item_name = ''\n",
        "for _ in range(n):\n",
        "    item = input().split()\n",
        "    if len(item) == 3:\n",
        "        net_price = int(item[2])\n",
        "        item_name = item[0] + ' ' + item[1]\n",
        "    else:\n",
        "        net_price = int(item[1])\n",
        "        item_name = item[0]\n",
        "    if item_name in items:\n",
        "        items[item_name] += net_price\n",
        "    else:\n",
        "        items[item_name] = net_price\n",
        "for i, p in items.items():\n",
        "    print(f\"{i} {p}\")"
      ],
      "metadata": {
        "id": "VTNbUwFBXPGe"
      },
      "execution_count": null,
      "outputs": []
    },
    {
      "cell_type": "markdown",
      "source": [
        "Collections.namedtuple()\n"
      ],
      "metadata": {
        "id": "l0Ta-5KhXO4e"
      }
    },
    {
      "cell_type": "code",
      "source": [
        "from collections import namedtuple\n",
        "\n",
        "n = int(input())\n",
        "student = namedtuple('student', input().split())\n",
        "mark = 0\n",
        "for _ in range(n):\n",
        "    s = student(*input().split())\n",
        "    mark = mark + int(s.MARKS)\n",
        "print(mark/n)"
      ],
      "metadata": {
        "id": "z2vB-oVBXOrY"
      },
      "execution_count": null,
      "outputs": []
    },
    {
      "cell_type": "markdown",
      "source": [
        "DefaultDict Tutorial\n"
      ],
      "metadata": {
        "id": "3wBukKadXORb"
      }
    },
    {
      "cell_type": "code",
      "source": [
        "from collections import defaultdict\n",
        "\n",
        "a, b = map(int, input().split())\n",
        "A = [str(input()) for _ in range(a)]\n",
        "B = [str(input()) for _ in range(b)]\n",
        "C = defaultdict(list)\n",
        "\n",
        "E = list(enumerate(A))\n",
        "\n",
        "for i in E:\n",
        "    C[i[1]].append(i[0]+1)\n",
        "for j in B:\n",
        "    if j in A:\n",
        "        print(*C[j])\n",
        "    else:\n",
        "        print('-1')"
      ],
      "metadata": {
        "id": "qaKigaE3XODp"
      },
      "execution_count": null,
      "outputs": []
    },
    {
      "cell_type": "markdown",
      "source": [
        "collections.Counter()\n"
      ],
      "metadata": {
        "id": "nkJC8CTtXN0Q"
      }
    },
    {
      "cell_type": "code",
      "source": [
        "from collections import Counter\n",
        "\n",
        "n = int(input())\n",
        "sh = list(input().split())\n",
        "count = Counter(sh)\n",
        "n_c = int(input())\n",
        "somma = 0\n",
        "for _ in range(n_c):\n",
        "    customer = input().split()\n",
        "    if customer[0] in count.keys():\n",
        "        somma = somma + int(customer[1])\n",
        "        count[customer[0]] = count[customer[0]] - 1\n",
        "        if count[customer[0]] == 0:\n",
        "            del count[customer[0]]\n",
        "print(somma)"
      ],
      "metadata": {
        "id": "p_V4JqMrXNl-"
      },
      "execution_count": null,
      "outputs": []
    },
    {
      "cell_type": "markdown",
      "source": [
        "Check Strict Superset\n"
      ],
      "metadata": {
        "id": "oELM_MbxXNYX"
      }
    },
    {
      "cell_type": "code",
      "source": [
        "A = set(input().split())\n",
        "n = int(input())\n",
        "res=False\n",
        "for _ in range(n):\n",
        "    B = set(input().split())\n",
        "    if len(A-B)!=0 and len(B -A)==0:\n",
        "        res = True\n",
        "    else:\n",
        "        res = False\n",
        "        break\n",
        "\n",
        "print(res)"
      ],
      "metadata": {
        "id": "i1Bz-emGXNJl"
      },
      "execution_count": null,
      "outputs": []
    },
    {
      "cell_type": "markdown",
      "source": [
        "Check Subset\n"
      ],
      "metadata": {
        "id": "qahthxe0XM5I"
      }
    },
    {
      "cell_type": "code",
      "source": [
        "n = int(input())\n",
        "risultati = []\n",
        "for _ in range(n):\n",
        "    n_A = int(input())\n",
        "    A = set(input().split())\n",
        "    n_B = set(input().split())\n",
        "    B = set(input().split())\n",
        "    x = A - B\n",
        "    if len(x)==0:\n",
        "        risultati.append(True)\n",
        "    else:\n",
        "        risultati.append(False)\n",
        "for i in risultati:\n",
        "    print(i)"
      ],
      "metadata": {
        "id": "GiI5085jXMlJ"
      },
      "execution_count": null,
      "outputs": []
    },
    {
      "cell_type": "markdown",
      "source": [
        "The Captain's Room\n"
      ],
      "metadata": {
        "id": "BmSHs7CRXL7v"
      }
    },
    {
      "cell_type": "code",
      "source": [
        "n = int(input())\n",
        "room = list(map(int, input().split()))\n",
        "s_room = set(room)\n",
        "\n",
        "for i in s_room:\n",
        "    room.remove(i)\n",
        "    if i not in room:\n",
        "        print(i)"
      ],
      "metadata": {
        "id": "o8KusfMDXLsm"
      },
      "execution_count": null,
      "outputs": []
    },
    {
      "cell_type": "markdown",
      "source": [
        "Set Mutations\n"
      ],
      "metadata": {
        "id": "iW96IKsSXLc-"
      }
    },
    {
      "cell_type": "code",
      "source": [
        "n_A = int(input())\n",
        "A = set(input().split())\n",
        "n = int(input())\n",
        "for _ in range(n):\n",
        "    c, n_set=input().split()\n",
        "    B = set(input().split())\n",
        "    if c == 'intersection_update':\n",
        "        A &= B\n",
        "    elif c == 'update':\n",
        "        A |= B\n",
        "    elif c == 'symmetric_difference_update':\n",
        "        A ^= B\n",
        "    elif c == 'difference_update':\n",
        "        A -= B\n",
        "somma=0\n",
        "for i in A:\n",
        "    somma = somma + int(i)\n",
        "\n",
        "print(somma)"
      ],
      "metadata": {
        "id": "iCVNrqY8XLM_"
      },
      "execution_count": null,
      "outputs": []
    },
    {
      "cell_type": "markdown",
      "source": [
        "Exceptions\n"
      ],
      "metadata": {
        "id": "wLC0OymJXK8A"
      }
    },
    {
      "cell_type": "code",
      "source": [
        "n = int(input())\n",
        "for i in range(n):\n",
        "    a, b = input().split()\n",
        "    try:\n",
        "        print(int(int(a)/int(b)))\n",
        "    except ZeroDivisionError as e:\n",
        "        print('Error Code: integer division or modulo by zero')\n",
        "    except ValueError as d:\n",
        "        print('Error Code:', d)"
      ],
      "metadata": {
        "id": "vrZdKdCOXKuH"
      },
      "execution_count": null,
      "outputs": []
    },
    {
      "cell_type": "markdown",
      "source": [
        "Calendar Module\n"
      ],
      "metadata": {
        "id": "XtIoUWjFVibf"
      }
    },
    {
      "cell_type": "code",
      "source": [
        "import calendar\n",
        "\n",
        "data = list(map(int, input().split()))\n",
        "anno = data[2]\n",
        "mese = data[0]\n",
        "giorno = data[1]\n",
        "day = calendar.weekday(anno, mese, giorno)\n",
        "if day == 0:\n",
        "    print('MONDAY')\n",
        "if day == 1:\n",
        "    print('TUESDAY')\n",
        "if day == 2:\n",
        "    print('WEDNESDAY')\n",
        "if day == 3:\n",
        "    print('THURSDAY')\n",
        "if day == 4:\n",
        "    print('FRIDAY')\n",
        "if day == 5:\n",
        "    print('SATURDAY')\n",
        "if day == 6:\n",
        "    print('SUNDAY')"
      ],
      "metadata": {
        "id": "52XCaN3FY4Mf"
      },
      "execution_count": null,
      "outputs": []
    },
    {
      "cell_type": "markdown",
      "source": [
        "Piling Up!\n"
      ],
      "metadata": {
        "id": "8yXOFYe5Y4Ay"
      }
    },
    {
      "cell_type": "code",
      "source": [
        "from collections import deque\n",
        "T = int(input())\n",
        "for i in range(T):\n",
        "    block = deque()\n",
        "    x = 10**90\n",
        "    sifa = True\n",
        "    n = int(input())\n",
        "    block.extend(map(int, input().split()))\n",
        "    while len(block)>0:\n",
        "        if max(block[0], block[-1])>x:\n",
        "            print('No')\n",
        "            sifa = False\n",
        "            break\n",
        "        if block[0]>block[-1]:\n",
        "            x = block.popleft()\n",
        "        else:\n",
        "            x = block.pop()\n",
        "    if sifa == True:\n",
        "        print('Yes')"
      ],
      "metadata": {
        "id": "8L9OI7EMY31J"
      },
      "execution_count": null,
      "outputs": []
    },
    {
      "cell_type": "markdown",
      "source": [
        "Company Logo"
      ],
      "metadata": {
        "id": "rkigu2mPY2yN"
      }
    },
    {
      "cell_type": "code",
      "source": [
        "#!/bin/python3\n",
        "\n",
        "import math\n",
        "import os\n",
        "import random\n",
        "import re\n",
        "import sys\n",
        "from collections import OrderedDict\n",
        "from collections import Counter\n",
        "\n",
        "\n",
        "if __name__ == '__main__':\n",
        "    s = list(*input().split())\n",
        "    count = Counter(s)\n",
        "    lista=[]\n",
        "    for i in sorted(count.values(), reverse=True):\n",
        "        for j in sorted(count):\n",
        "            if count[j]==i and len(lista)<3 and [j, count[j]] not in lista:\n",
        "                lista.append([j, count[j]])\n",
        "    for i in lista:\n",
        "        print(*i)"
      ],
      "metadata": {
        "id": "XLtbk9ayY2mH"
      },
      "execution_count": null,
      "outputs": []
    },
    {
      "cell_type": "markdown",
      "source": [
        "Birthday Cake Candles\n"
      ],
      "metadata": {
        "id": "KfWsoTwVY2el"
      }
    },
    {
      "cell_type": "code",
      "source": [
        "#!/bin/python3\n",
        "\n",
        "import math\n",
        "import os\n",
        "import random\n",
        "import re\n",
        "import sys\n",
        "\n",
        "#\n",
        "# Complete the 'birthdayCakeCandles' function below.\n",
        "#\n",
        "# The function is expected to return an INTEGER.\n",
        "# The function accepts INTEGER_ARRAY candles as parameter.\n",
        "#\n",
        "\n",
        "def birthdayCakeCandles(candles):\n",
        "    x = max(candles)\n",
        "    conto = 0\n",
        "    for i in candles:\n",
        "        if i == x:\n",
        "            conto +=1\n",
        "    return conto\n",
        "\n",
        "if __name__ == '__main__':\n",
        "    fptr = open(os.environ['OUTPUT_PATH'], 'w')\n",
        "\n",
        "    candles_count = int(input().strip())\n",
        "\n",
        "    candles = list(map(int, input().rstrip().split()))\n",
        "\n",
        "    result = birthdayCakeCandles(candles)\n",
        "\n",
        "    fptr.write(str(result) + '\\n')\n",
        "\n",
        "    fptr.close()"
      ],
      "metadata": {
        "id": "X-a7m6PSY3Q3"
      },
      "execution_count": null,
      "outputs": []
    },
    {
      "cell_type": "markdown",
      "source": [
        "Recursive Digit Sum\n"
      ],
      "metadata": {
        "id": "NGWvFog3Y2Yv"
      }
    },
    {
      "cell_type": "code",
      "source": [
        "#!/bin/python3\n",
        "\n",
        "import math\n",
        "import os\n",
        "import random\n",
        "import re\n",
        "import sys\n",
        "\n",
        "#\n",
        "# Complete the 'superDigit' function below.\n",
        "#\n",
        "# The function is expected to return an INTEGER.\n",
        "# The function accepts following parameters:\n",
        "#  1. STRING n\n",
        "#  2. INTEGER k\n",
        "#\n",
        "\n",
        "def superDigit(n, k):\n",
        "    sup = str(sum(int(i) for i in str(n)))*k\n",
        "    tot = sup\n",
        "    while len(str(tot)) !=1:\n",
        "        x = 0\n",
        "        for i in str(tot):\n",
        "            x += int(i)\n",
        "        tot = x\n",
        "    return x\n",
        "\n",
        "\n",
        "\n",
        "\n",
        "\n",
        "\n",
        "if __name__ == '__main__':\n",
        "    fptr = open(os.environ['OUTPUT_PATH'], 'w')\n",
        "\n",
        "    first_multiple_input = input().rstrip().split()\n",
        "\n",
        "    n = first_multiple_input[0]\n",
        "\n",
        "    k = int(first_multiple_input[1])\n",
        "\n",
        "    result = superDigit(n, k)\n",
        "\n",
        "    fptr.write(str(result) + '\\n')\n",
        "\n",
        "    fptr.close()"
      ],
      "metadata": {
        "id": "r-xERxoZY2Nz"
      },
      "execution_count": null,
      "outputs": []
    },
    {
      "cell_type": "markdown",
      "source": [
        "Viral Advertising\n"
      ],
      "metadata": {
        "id": "qp_QLv4IY2Dv"
      }
    },
    {
      "cell_type": "code",
      "source": [
        "#!/bin/python3\n",
        "\n",
        "import math\n",
        "import os\n",
        "import random\n",
        "import re\n",
        "import sys\n",
        "\n",
        "#\n",
        "# Complete the 'viralAdvertising' function below.\n",
        "#\n",
        "# The function is expected to return an INTEGER.\n",
        "# The function accepts INTEGER n as parameter.\n",
        "#\n",
        "\n",
        "def viralAdvertising(n):\n",
        "    i = 5\n",
        "    a = 0\n",
        "    tot = 0\n",
        "    for _ in range(n):\n",
        "        a = i//2\n",
        "        tot += a\n",
        "        i = a*3\n",
        "    return tot\n",
        "\n",
        "\n",
        "if __name__ == '__main__':\n",
        "    fptr = open(os.environ['OUTPUT_PATH'], 'w')\n",
        "\n",
        "    n = int(input().strip())\n",
        "\n",
        "    result = viralAdvertising(n)\n",
        "\n",
        "    fptr.write(str(result) + '\\n')\n",
        "\n",
        "    fptr.close()"
      ],
      "metadata": {
        "id": "ik72R_HZY14b"
      },
      "execution_count": null,
      "outputs": []
    },
    {
      "cell_type": "markdown",
      "source": [
        "ginortS"
      ],
      "metadata": {
        "id": "yVUlZDHYY1tJ"
      }
    },
    {
      "cell_type": "code",
      "source": [
        "l = list(*input().split())\n",
        "minuscole = []\n",
        "maiuscole = []\n",
        "numeri_pari = []\n",
        "numeri_dispari = []\n",
        "for i in l:\n",
        "    if str(i).islower():\n",
        "        minuscole.append(i)\n",
        "    elif str(i).isupper():\n",
        "        maiuscole.append(i)\n",
        "    elif int(i)% 2 == 0:\n",
        "        numeri_pari.append(i)\n",
        "    else:\n",
        "        numeri_dispari.append(i)\n",
        "minuscole.sort()\n",
        "maiuscole.sort()\n",
        "numeri_dispari.sort()\n",
        "numeri_pari.sort()\n",
        "risultati = minuscole + maiuscole + numeri_dispari + numeri_pari\n",
        "print(''.join(x for x in risultati))"
      ],
      "metadata": {
        "id": "Qh0jZ30cY1h-"
      },
      "execution_count": null,
      "outputs": []
    },
    {
      "cell_type": "markdown",
      "source": [
        "Zipped!\n"
      ],
      "metadata": {
        "id": "Aj6pY7jgY1W0"
      }
    },
    {
      "cell_type": "code",
      "source": [
        "n_stud, n_subj = list(map(int, input().split()))\n",
        "media = 0\n",
        "tot = 0\n",
        "studenti = []\n",
        "for i in range(n_subj):\n",
        "    studenti.append(list(map(float, input().split())))\n",
        "x = list(zip(*studenti))\n",
        "for j in x:\n",
        "    print(sum(j)/n_subj)"
      ],
      "metadata": {
        "id": "o-i_JcDPY1Mh"
      },
      "execution_count": null,
      "outputs": []
    },
    {
      "cell_type": "markdown",
      "source": [
        "Arrays\n"
      ],
      "metadata": {
        "id": "mLsaOOwKY0yJ"
      }
    },
    {
      "cell_type": "code",
      "source": [
        "\n",
        "def arrays(arr):\n",
        "    arr2 = numpy.array( arr[::-1], float)\n",
        "    return arr2\n",
        ""
      ],
      "metadata": {
        "id": "RWR7mw1aY0jh"
      },
      "execution_count": null,
      "outputs": []
    },
    {
      "cell_type": "markdown",
      "source": [
        "Group(), Groups() & Groupdict()\n"
      ],
      "metadata": {
        "id": "Qpc1vIJZY0U9"
      }
    },
    {
      "cell_type": "code",
      "source": [
        "import re\n",
        "st = input()\n",
        "m = re.compile(r'([a-zA-Z0-9])(?=\\1)')\n",
        "print(m.search(st)[0] if m.search(st) else -1)\n"
      ],
      "metadata": {
        "id": "YsJ6N9PlY0Ef"
      },
      "execution_count": null,
      "outputs": []
    },
    {
      "cell_type": "markdown",
      "source": [
        "Re.split()\n"
      ],
      "metadata": {
        "id": "0xb2Ab1UYz23"
      }
    },
    {
      "cell_type": "code",
      "source": [
        "regex_pattern = r\"\\,|\\.\"\t# Do not delete 'r'.\n",
        "\n"
      ],
      "metadata": {
        "id": "lo1f2WDuYzoi"
      },
      "execution_count": null,
      "outputs": []
    },
    {
      "cell_type": "markdown",
      "source": [
        "Detect Floating Point Number"
      ],
      "metadata": {
        "id": "7UwGO58YYzZC"
      }
    },
    {
      "cell_type": "code",
      "source": [
        "import re\n",
        "rx = re.compile(r\"^[+-]?(0|[1-9]\\d*|)\\.\\d\\d*$\")\n",
        "t = int(input())\n",
        "for _ in range(t):\n",
        "    print(rx.match(input()) is not None)\n"
      ],
      "metadata": {
        "id": "R6haRcR_YyQH"
      },
      "execution_count": null,
      "outputs": []
    },
    {
      "cell_type": "markdown",
      "source": [
        "Map and Lambda Function\n"
      ],
      "metadata": {
        "id": "FD5d9LzQYyrU"
      }
    },
    {
      "cell_type": "code",
      "source": [
        "cube = lambda x: x**3\n",
        "\n",
        "def fibonacci(n):\n",
        "    fibo = [0 , 1]\n",
        "    for i in range(2, n):\n",
        "        fibo.append(fibo[i-1]+fibo[i-2])\n",
        "    return fibo[:n]"
      ],
      "metadata": {
        "id": "XonuPVTuYxyB"
      },
      "execution_count": null,
      "outputs": []
    },
    {
      "cell_type": "markdown",
      "source": [
        "Number Line Jumps"
      ],
      "metadata": {
        "id": "79EOp82TYxjt"
      }
    },
    {
      "cell_type": "code",
      "source": [
        "#!/bin/python3\n",
        "\n",
        "import math\n",
        "import os\n",
        "import random\n",
        "import re\n",
        "import sys\n",
        "\n",
        "#\n",
        "# Complete the 'kangaroo' function below.\n",
        "#\n",
        "# The function is expected to return a STRING.\n",
        "# The function accepts following parameters:\n",
        "#  1. INTEGER x1\n",
        "#  2. INTEGER v1\n",
        "#  3. INTEGER x2\n",
        "#  4. INTEGER v2\n",
        "#\n",
        "\n",
        "def kangaroo(x1, v1, x2, v2):\n",
        "    result = 'NO'\n",
        "    while x1 != x2:\n",
        "        x1 += v1\n",
        "        x2 += v2\n",
        "        if (x2>x1 and v2>=v1) or (x1>x2 and v1>=v2) :\n",
        "            return result\n",
        "    result = 'YES'\n",
        "    return result\n",
        "\n",
        "\n",
        "if __name__ == '__main__':\n",
        "    fptr = open(os.environ['OUTPUT_PATH'], 'w')\n",
        "\n",
        "    first_multiple_input = input().rstrip().split()\n",
        "\n",
        "    x1 = int(first_multiple_input[0])\n",
        "\n",
        "    v1 = int(first_multiple_input[1])\n",
        "\n",
        "    x2 = int(first_multiple_input[2])\n",
        "\n",
        "    v2 = int(first_multiple_input[3])\n",
        "\n",
        "    result = kangaroo(x1, v1, x2, v2)\n",
        "\n",
        "    fptr.write(result + '\\n')\n",
        "\n",
        "    fptr.close()"
      ],
      "metadata": {
        "id": "ANwvmWjSYxWE"
      },
      "execution_count": null,
      "outputs": []
    },
    {
      "cell_type": "markdown",
      "source": [
        "Sum and Prod\n"
      ],
      "metadata": {
        "id": "wpNkj7kWYxIA"
      }
    },
    {
      "cell_type": "code",
      "source": [
        "import numpy\n",
        "\n",
        "n, m = list(map(int, input().split()))\n",
        "arr = []\n",
        "for _ in range(n):\n",
        "    arr.append(list(map(int, input().split())))\n",
        "arr = numpy.array(arr)\n",
        "arr1 = numpy.sum(arr, axis=0)\n",
        "print(numpy.prod(arr1))"
      ],
      "metadata": {
        "id": "P96xoUWgYw6H"
      },
      "execution_count": null,
      "outputs": []
    },
    {
      "cell_type": "markdown",
      "source": [
        "Floor, Ceil and Rint\n"
      ],
      "metadata": {
        "id": "WdahBptDYwsA"
      }
    },
    {
      "cell_type": "code",
      "source": [
        "import numpy\n",
        "numpy.set_printoptions(legacy='1.13')\n",
        "\n",
        "arr = list(map(float, input().split()))\n",
        "arr = numpy.array(arr)\n",
        "\n",
        "print(numpy.floor(arr))\n",
        "print(numpy.ceil(arr))\n",
        "print(numpy.rint(arr))"
      ],
      "metadata": {
        "id": "QblNSLiBYwdk"
      },
      "execution_count": null,
      "outputs": []
    },
    {
      "cell_type": "markdown",
      "source": [
        "Array Mathematics\n"
      ],
      "metadata": {
        "id": "oNKWTZCbYwPg"
      }
    },
    {
      "cell_type": "code",
      "source": [
        "import numpy\n",
        "\n",
        "n, m = list(map(int, input().split()))\n",
        "\n",
        "arr1 = []\n",
        "arr2 = []\n",
        "\n",
        "for _ in range(n):\n",
        "    arr1.append(list(map(int, input().split())))\n",
        "for _ in range(n):\n",
        "    arr2.append(list(map(int, input().split())))\n",
        "\n",
        "arr1 = numpy.array(arr1)\n",
        "arr2 = numpy.array(arr2)\n",
        "\n",
        "print(numpy.add(arr1, arr2))\n",
        "print(numpy.subtract(arr1, arr2))\n",
        "print(numpy.multiply(arr1, arr2))\n",
        "print(arr1 // arr2)\n",
        "print(numpy.mod(arr1, arr2))\n",
        "print(numpy.power(arr1, arr2))"
      ],
      "metadata": {
        "id": "cl3wSIIjYvgG"
      },
      "execution_count": null,
      "outputs": []
    },
    {
      "cell_type": "markdown",
      "source": [
        "Eye and Identity\n"
      ],
      "metadata": {
        "id": "hu9_MiLOas7w"
      }
    },
    {
      "cell_type": "code",
      "source": [
        "import numpy\n",
        "numpy.set_printoptions(legacy='1.13')\n",
        "n, m = list(map(int, input().split()))\n",
        "print(numpy.eye(n, m, k = 0))\n"
      ],
      "metadata": {
        "id": "L30-Ck5BasvO"
      },
      "execution_count": null,
      "outputs": []
    },
    {
      "cell_type": "markdown",
      "source": [
        "Zeros and Ones\n"
      ],
      "metadata": {
        "id": "vRZTGyJnask3"
      }
    },
    {
      "cell_type": "code",
      "source": [
        "import numpy as np\n",
        "\n",
        "a = input().strip()\n",
        "b = list(map(int,a.split()))\n",
        "\n",
        "zeros_array = np.zeros(b, dtype=int)\n",
        "ones_array = np.ones(b, dtype=int)\n",
        "\n",
        "print(zeros_array)\n",
        "print(ones_array)"
      ],
      "metadata": {
        "id": "RYxm6C-Rasax"
      },
      "execution_count": null,
      "outputs": []
    },
    {
      "cell_type": "markdown",
      "source": [
        "Concatenate\n"
      ],
      "metadata": {
        "id": "PbddVchSasRk"
      }
    },
    {
      "cell_type": "code",
      "source": [
        "import numpy\n",
        "\n",
        "n, m, p = list(map(int, input().split()))\n",
        "\n",
        "i1 = [list(map(int, input().split())) for _ in range(n)]\n",
        "\n",
        "i2 = [list(map(int, input().split())) for _ in range(m)]\n",
        "\n",
        "arr1 = numpy.array(i1)\n",
        "arr2 = numpy.array(i2)\n",
        "\n",
        "\n",
        "print(numpy.concatenate([arr1, arr2]))\n"
      ],
      "metadata": {
        "id": "7cKuynnWasIZ"
      },
      "execution_count": null,
      "outputs": []
    },
    {
      "cell_type": "markdown",
      "source": [
        "Transpose and Flatten"
      ],
      "metadata": {
        "id": "Fa37ols0ar-l"
      }
    },
    {
      "cell_type": "code",
      "source": [
        "import numpy\n",
        "n, m = list(map(int, input().split()))\n",
        "arr = []\n",
        "for _ in range(n):\n",
        "    arr.append(input().split())\n",
        "arr1 = numpy.array(arr, int)\n",
        "print(numpy.transpose(arr1))\n",
        "print(arr1.flatten())"
      ],
      "metadata": {
        "id": "l5saqqYLar0q"
      },
      "execution_count": null,
      "outputs": []
    },
    {
      "cell_type": "markdown",
      "source": [
        "Shape and Reshape\n"
      ],
      "metadata": {
        "id": "GPNpxYdkarqo"
      }
    },
    {
      "cell_type": "code",
      "source": [
        "import numpy\n",
        "i = input().split()\n",
        "arr = numpy.array(i, int)\n",
        "arr.shape = (3, 3)\n",
        "print(arr)"
      ],
      "metadata": {
        "id": "zUONvbV5argl"
      },
      "execution_count": null,
      "outputs": []
    },
    {
      "cell_type": "markdown",
      "source": [
        "Linear Algebra"
      ],
      "metadata": {
        "id": "rOPwstFrarXI"
      }
    },
    {
      "cell_type": "code",
      "source": [
        "import numpy as np\n",
        "\n",
        "n = int(input())\n",
        "arr = []\n",
        "for _ in range(n):\n",
        "    arr.append(list(map(float, input().split())))\n",
        "arr = np.array(arr)\n",
        "\n",
        "print(np.round(np.linalg.det(arr), 2))\n"
      ],
      "metadata": {
        "id": "xJzAonOoarNO"
      },
      "execution_count": null,
      "outputs": []
    },
    {
      "cell_type": "markdown",
      "source": [
        "Polynomials\n"
      ],
      "metadata": {
        "id": "43-umWdmarEe"
      }
    },
    {
      "cell_type": "code",
      "source": [
        "import numpy as np\n",
        "\n",
        "arr = np.array(list(map(float, input().split())))\n",
        "x = float(input())\n",
        "\n",
        "print(np.polyval(arr, x))\n"
      ],
      "metadata": {
        "id": "sBmgsY6maq7N"
      },
      "execution_count": null,
      "outputs": []
    },
    {
      "cell_type": "markdown",
      "source": [
        "Inner and Outer\n"
      ],
      "metadata": {
        "id": "nPuE7X0zaqmU"
      }
    },
    {
      "cell_type": "code",
      "source": [
        "import numpy as np\n",
        "\n",
        "arr1 = np.array(list(map(int, input().split())))\n",
        "arr2 = np.array(list(map(int, input().split())))\n",
        "\n",
        "print(np.inner(arr1, arr2))\n",
        "print(np.outer(arr1, arr2))\n"
      ],
      "metadata": {
        "id": "8IEKrQB2aqde"
      },
      "execution_count": null,
      "outputs": []
    },
    {
      "cell_type": "markdown",
      "source": [
        "Dot and Cross\n"
      ],
      "metadata": {
        "id": "ocPUmr7taqVC"
      }
    },
    {
      "cell_type": "code",
      "source": [
        "import numpy as np\n",
        "\n",
        "n = int(input())\n",
        "arr1 = []\n",
        "arr2 = []\n",
        "for _ in range(n):\n",
        "    arr1.append(list(map(int, input().split())))\n",
        "\n",
        "for _ in range(n):\n",
        "    arr2.append(list(map(int, input().split())))\n",
        "arr1 = np.array(arr1)\n",
        "arr2 = np.array(arr2)\n",
        "\n",
        "print(np.dot(arr1, arr2))"
      ],
      "metadata": {
        "id": "fNlFcjO1aqLP"
      },
      "execution_count": null,
      "outputs": []
    },
    {
      "cell_type": "markdown",
      "source": [
        "Mean, Var, and Std\n"
      ],
      "metadata": {
        "id": "piUBnao1aqCa"
      }
    },
    {
      "cell_type": "code",
      "source": [
        "import numpy as np\n",
        "\n",
        "n, m = list(map(int, input().split()))\n",
        "\n",
        "arr = []\n",
        "for _ in range(n):\n",
        "    arr.append(list(map(int, input().split())))\n",
        "arr = np.array(arr)\n",
        "print(np.mean(arr, axis=1))\n",
        "print(np.var(arr, axis=0))\n",
        "print(np.round(np.std(arr), 11))"
      ],
      "metadata": {
        "id": "mkN4FGdRap4u"
      },
      "execution_count": null,
      "outputs": []
    },
    {
      "cell_type": "markdown",
      "source": [
        "Min and Max\n"
      ],
      "metadata": {
        "id": "19u6PgJUapuh"
      }
    },
    {
      "cell_type": "code",
      "source": [
        "import numpy as np\n",
        "\n",
        "n, m = list(map(int, input().split()))\n",
        "arr = []\n",
        "for _ in range(n):\n",
        "    arr.append(list(map(int, input().split())))\n",
        "arr = np.array(arr)\n",
        "arr1 = np.min(arr, axis=1)\n",
        "print(np.max(arr1))"
      ],
      "metadata": {
        "id": "PnVOklZdapka"
      },
      "execution_count": null,
      "outputs": []
    },
    {
      "cell_type": "markdown",
      "source": [
        "Capitalize!\n"
      ],
      "metadata": {
        "id": "MbNbdLjGapbV"
      }
    },
    {
      "cell_type": "code",
      "source": [
        "# Complete the solve function below.\n",
        "def solve(s):\n",
        "    parole = s.split(' ')\n",
        "    parola = []\n",
        "    for i in parole:\n",
        "        if i:\n",
        "            st = i.capitalize()\n",
        "        else:\n",
        "            st = i\n",
        "        parola.append(st)\n",
        "    return ' '.join(parola)\n"
      ],
      "metadata": {
        "id": "i_9HGdxhapSc"
      },
      "execution_count": null,
      "outputs": []
    },
    {
      "cell_type": "markdown",
      "source": [
        "Incorrect Regex"
      ],
      "metadata": {
        "id": "67CduyqYapJX"
      }
    },
    {
      "cell_type": "code",
      "source": [
        "import re\n",
        "t = int(input())\n",
        "for _ in range(t):\n",
        "    s = input()\n",
        "    try:\n",
        "        re.compile(s)\n",
        "        print('True')\n",
        "    except re.error:\n",
        "        print('False')"
      ],
      "metadata": {
        "id": "5f4YCCGGao-d"
      },
      "execution_count": null,
      "outputs": []
    },
    {
      "cell_type": "markdown",
      "source": [
        "Zipped!\n"
      ],
      "metadata": {
        "id": "axng7pzVaozz"
      }
    },
    {
      "cell_type": "code",
      "source": [
        "n_stud, n_subj = list(map(int, input().split()))\n",
        "media = 0\n",
        "tot = 0\n",
        "studenti = []\n",
        "for i in range(n_subj):\n",
        "    studenti.append(list(map(float, input().split())))\n",
        "x = list(zip(*studenti))\n",
        "for j in x:\n",
        "    print(sum(j)/n_subj)"
      ],
      "metadata": {
        "id": "nEqpHxlvaoqL"
      },
      "execution_count": null,
      "outputs": []
    },
    {
      "cell_type": "markdown",
      "source": [
        "Detect Floating Point Number\n"
      ],
      "metadata": {
        "id": "1N9YtjH6aogV"
      }
    },
    {
      "cell_type": "code",
      "source": [
        "import re\n",
        "\n",
        "n = int(input())\n",
        "p = r'^[+-]?\\d*\\.\\d+$'\n",
        "for _ in range(n):\n",
        "    num = input()\n",
        "    print(bool(re.match(p, num)))"
      ],
      "metadata": {
        "id": "Ag_q9wExaoWQ"
      },
      "execution_count": null,
      "outputs": []
    },
    {
      "cell_type": "markdown",
      "source": [],
      "metadata": {
        "id": "S47rp70maoKq"
      }
    },
    {
      "cell_type": "code",
      "source": [],
      "metadata": {
        "id": "1_PCwCXYaoAc"
      },
      "execution_count": null,
      "outputs": []
    },
    {
      "cell_type": "markdown",
      "source": [],
      "metadata": {
        "id": "ersTmXMxan18"
      }
    },
    {
      "cell_type": "code",
      "source": [],
      "metadata": {
        "id": "WpPuhzSDanrT"
      },
      "execution_count": null,
      "outputs": []
    },
    {
      "cell_type": "markdown",
      "source": [],
      "metadata": {
        "id": "49pmuaaranhK"
      }
    },
    {
      "cell_type": "code",
      "source": [],
      "metadata": {
        "id": "W1_cyDkGanWd"
      },
      "execution_count": null,
      "outputs": []
    },
    {
      "cell_type": "markdown",
      "source": [],
      "metadata": {
        "id": "NIJy2TozanJY"
      }
    },
    {
      "cell_type": "code",
      "source": [],
      "metadata": {
        "id": "lVM7KFdGam9Q"
      },
      "execution_count": null,
      "outputs": []
    },
    {
      "cell_type": "markdown",
      "source": [],
      "metadata": {
        "id": "Sk5eY0uJamlf"
      }
    },
    {
      "cell_type": "code",
      "source": [],
      "metadata": {
        "id": "pDax7uX5amSf"
      },
      "execution_count": null,
      "outputs": []
    },
    {
      "cell_type": "markdown",
      "source": [],
      "metadata": {
        "id": "YzwxLTDRalPV"
      }
    },
    {
      "cell_type": "code",
      "source": [],
      "metadata": {
        "id": "3_b-pMfjalp_"
      },
      "execution_count": null,
      "outputs": []
    }
  ]
}